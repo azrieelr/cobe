{
 "cells": [
  {
   "cell_type": "code",
   "execution_count": 6,
   "metadata": {},
   "outputs": [
    {
     "name": "stdout",
     "output_type": "stream",
     "text": [
      "Requirement already satisfied: opencv-python in d:\\anaconda\\lib\\site-packages (4.5.1.48)\n",
      "Requirement already satisfied: numpy>=1.17.3 in d:\\anaconda\\lib\\site-packages (from opencv-python) (1.19.2)\n"
     ]
    }
   ],
   "source": [
    "!pip install opencv-python"
   ]
  },
  {
   "cell_type": "code",
   "execution_count": 7,
   "metadata": {},
   "outputs": [],
   "source": [
    "import numpy as np\n",
    "import cv2 "
   ]
  },
  {
   "cell_type": "code",
   "execution_count": 8,
   "metadata": {},
   "outputs": [
    {
     "data": {
      "text/plain": [
       "True"
      ]
     },
     "execution_count": 8,
     "metadata": {},
     "output_type": "execute_result"
    }
   ],
   "source": [
    "cap = cv2.VideoCapture(0)\n",
    "cap.set(3, 640) #lebar\n",
    "cap.set(4, 480) #Tinggi"
   ]
  },
  {
   "cell_type": "code",
   "execution_count": null,
   "metadata": {},
   "outputs": [],
   "source": [
    "faceDetektor = cv2.CascadeClassifier('haarcascade_frontalface_default.xml')\n",
    "eyeDetektor = cv2.CascadeClassifier('haarcascade_eye.xml')\n",
    "noseDetector = cv2.CascadeClassifier('Nariz.xml')\n",
    "\n",
    "mask_on = False\n",
    "\n",
    "while(True):\n",
    "    ret, frame = cap.read()\n",
    "    gray = cv2.cvtColor(frame, cv2.COLOR_BGR2GRAY)\n",
    "    \n",
    "    faces = faceDetektor.detectMultiScale(gray, 1.3, 5)#frame,faktor skala,minneighbors\n",
    "    for (x, y, w, h) in faces:\n",
    "        frame = cv2.rectangle(frame,(x,y),(x+w,y+h),(0,0,225),2)\n",
    "        \n",
    "        if mask_on:\n",
    "            cv2.rectangle(frame, (x,y),(x+w, y+h),(0,255,0),2)\n",
    "            cv2.putText(frame, 'Mask On', (x,y), cv2.FONT_HERSHEY_SIMPLEX, 2, (0, 225, 0), 2)\n",
    "        else:\n",
    "            cv2.rectangle(frame,(x,y),(x+w, y+h),(0,0,225),2)\n",
    "            cv2.putText(frame, 'Mask Off', (x,y), cv2.FONT_HERSHEY_SIMPLEX, 2, (0, 0, 225), 2)\n",
    "    \n",
    "    eye = eyeDetektor.detectMultiScale(gray, 1.3, 5)\n",
    "    for (x, y, w, h) in eye:\n",
    "        frame = cv2.rectangle(frame, (x,y), (x+w, y+h), (0, 0, 225), 2)\n",
    "        \n",
    "    nose = noseDetector.detectMultiScale(gray, 1.18, 35)\n",
    "    for (x, y, w, h) in nose: \n",
    "        frame = cv2.rectangle(frame, (x, y), (x+w, y+h), (0, 0, 225), 2)\n",
    "        \n",
    "    if len(nose)>0:\n",
    "        mask_on = False\n",
    "    else:\n",
    "        mask_on = True\n",
    "        \n",
    "    #cv2.imshow('frame',gray)\n",
    "    cv2.imshow('webcam',frame)\n",
    "    if cv2.waitKey(1) & 0xFF == ord('q'):\n",
    "        break\n",
    "        \n",
    "cap.release()\n",
    "cv2.destroyAllWindows()"
   ]
  },
  {
   "cell_type": "code",
   "execution_count": null,
   "metadata": {},
   "outputs": [],
   "source": []
  }
 ],
 "metadata": {
  "kernelspec": {
   "display_name": "Python 3",
   "language": "python",
   "name": "python3"
  },
  "language_info": {
   "codemirror_mode": {
    "name": "ipython",
    "version": 3
   },
   "file_extension": ".py",
   "mimetype": "text/x-python",
   "name": "python",
   "nbconvert_exporter": "python",
   "pygments_lexer": "ipython3",
   "version": "3.8.5"
  }
 },
 "nbformat": 4,
 "nbformat_minor": 4
}
