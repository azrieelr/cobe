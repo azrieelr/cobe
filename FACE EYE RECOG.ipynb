{
 "cells": [
  {
   "cell_type": "code",
   "execution_count": 6,
   "metadata": {},
   "outputs": [
    {
     "name": "stdout",
     "output_type": "stream",
     "text": [
      "Masukan Face ID yang akan Direkam Datanya [Tekan Enter]: 1\n",
      "Tatap Wajah Anda Ke Depan Webcam. Tunggu proses pengambilan data wajah selesai...\n",
      "Pengambilan data selesai\n"
     ]
    }
   ],
   "source": [
    "import numpy as np\n",
    "import cv2 \n",
    "import os\n",
    "\n",
    "WajahDir = 'datawajah'\n",
    "cap = cv2.VideoCapture(0)\n",
    "cap.set(3, 640) #lebar\n",
    "cap.set(4, 480) #Tinggi\n",
    "faceDetektor = cv2.CascadeClassifier('haarcascade_frontalface_default.xml')\n",
    "eyeDetektor = cv2.CascadeClassifier('haarcascade_eye.xml')\n",
    "faceID = input(\"Masukan Face ID yang akan Direkam Datanya [Tekan Enter]: \")\n",
    "print ('Tatap Wajah Anda Ke Depan Webcam. Tunggu proses pengambilan data wajah selesai...')\n",
    "ambilData = 1\n",
    "\n",
    "while(True):\n",
    "    retV, frame = cap.read()\n",
    "    gray = cv2.cvtColor(frame, cv2.COLOR_BGR2GRAY)\n",
    "    \n",
    "    faces = faceDetektor.detectMultiScale(gray, 1.3, 5) #frame,faktor skala,minneighbors\n",
    "    for (x, y, w, h) in faces:\n",
    "        frame = cv2.rectangle(frame,(x,y),(x+w,y+h),(0,0,225),2)\n",
    "        cv2.imwrite(\"dataset/User.\" + str(faceID) + '.' + str(ambilData) + \".png\", gray[y:y+h,x:x+w])\n",
    "        namaFile = 'wajah.'+str(faceID)+'.'+str(ambilData)+'.png'\n",
    "        cv2.imwrite(WajahDir+'/'+namaFile,frame)\n",
    "        ambilData += 1\n",
    "        roigray = gray[y:y+h, x:x+w]\n",
    "        roiwarna = frame[y:y+h, x:x+w]\n",
    "        \n",
    "    eye = eyeDetektor.detectMultiScale(gray, 1.3, 5)\n",
    "    for (x, y, w, h) in eye:\n",
    "        frame = cv2.rectangle(frame, (x,y), (x+w, y+h), (0, 0, 225),1)\n",
    "        \n",
    "    cv2.imshow('webcam',frame)\n",
    "    k = cv2.waitKey(30) & 0xFF\n",
    "    if k == 27 or k == ord('q'):\n",
    "        break\n",
    "    elif ambilData >= 38:\n",
    "        break\n",
    "print ('Pengambilan data selesai')\n",
    "        \n",
    "cap.release()\n",
    "cv2.destroyAllWindows()"
   ]
  },
  {
   "cell_type": "code",
   "execution_count": null,
   "metadata": {},
   "outputs": [],
   "source": []
  }
 ],
 "metadata": {
  "kernelspec": {
   "display_name": "Python 3",
   "language": "python",
   "name": "python3"
  },
  "language_info": {
   "codemirror_mode": {
    "name": "ipython",
    "version": 3
   },
   "file_extension": ".py",
   "mimetype": "text/x-python",
   "name": "python",
   "nbconvert_exporter": "python",
   "pygments_lexer": "ipython3",
   "version": "3.8.5"
  }
 },
 "nbformat": 4,
 "nbformat_minor": 4
}
