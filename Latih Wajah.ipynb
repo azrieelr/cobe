{
 "cells": [
  {
   "cell_type": "code",
   "execution_count": 9,
   "metadata": {},
   "outputs": [
    {
     "ename": "AttributeError",
     "evalue": "module 'cv2.cv2' has no attribute 'face'",
     "output_type": "error",
     "traceback": [
      "\u001b[1;31m---------------------------------------------------------------------------\u001b[0m",
      "\u001b[1;31mAttributeError\u001b[0m                            Traceback (most recent call last)",
      "\u001b[1;32m<ipython-input-9-e31f626f3b7b>\u001b[0m in \u001b[0;36m<module>\u001b[1;34m\u001b[0m\n\u001b[0;32m     21\u001b[0m         \u001b[1;32mreturn\u001b[0m \u001b[0mfaceSamples\u001b[0m\u001b[1;33m,\u001b[0m\u001b[0mfaceIDs\u001b[0m\u001b[1;33m\u001b[0m\u001b[1;33m\u001b[0m\u001b[0m\n\u001b[0;32m     22\u001b[0m \u001b[1;33m\u001b[0m\u001b[0m\n\u001b[1;32m---> 23\u001b[1;33m \u001b[0mfaceRecognizer\u001b[0m \u001b[1;33m=\u001b[0m \u001b[0mcv2\u001b[0m\u001b[1;33m.\u001b[0m\u001b[0mface\u001b[0m\u001b[1;33m.\u001b[0m\u001b[0mLBPHFaceRecognizer_create\u001b[0m\u001b[1;33m(\u001b[0m\u001b[1;33m)\u001b[0m\u001b[1;33m\u001b[0m\u001b[1;33m\u001b[0m\u001b[0m\n\u001b[0m\u001b[0;32m     24\u001b[0m \u001b[0mfaceDetektor\u001b[0m \u001b[1;33m=\u001b[0m \u001b[0mcv2\u001b[0m\u001b[1;33m.\u001b[0m\u001b[0mCascadeClassifier\u001b[0m\u001b[1;33m(\u001b[0m\u001b[1;34m'haarcascade_frontalface_default.xml'\u001b[0m\u001b[1;33m)\u001b[0m\u001b[1;33m\u001b[0m\u001b[1;33m\u001b[0m\u001b[0m\n\u001b[0;32m     25\u001b[0m \u001b[1;33m\u001b[0m\u001b[0m\n",
      "\u001b[1;31mAttributeError\u001b[0m: module 'cv2.cv2' has no attribute 'face'"
     ]
    }
   ],
   "source": [
    "import cv2 \n",
    "import numpy as np\n",
    "import os \n",
    "from PIL import Image\n",
    "\n",
    "wajahDir = 'datawajah'\n",
    "latihDir = 'latihwajah'\n",
    "\n",
    "def getImageLabel(path):\n",
    "    imagePaths = [os.path.join(path,f)for f in os.listdir(path)]\n",
    "    faceSamples = []\n",
    "    faceID = []\n",
    "    for imagePath in imagePaths:\n",
    "        PILImg = Image.open(imangePath).convert('L') \n",
    "        igmNum = np.array(PILImg, 'uint8')\n",
    "        faceID = int(os.path.split(imagePath)[-1].split(\".\")[1])\n",
    "        faces = faceDetector.detectMultiScale(imgNum)\n",
    "        for (x, y, w, h) in faces:\n",
    "            faceSample.append(imgNum[y :y+h, x: x+w])\n",
    "            faceID.append(faceID)\n",
    "        return faceSamples,faceIDs\n",
    "    \n",
    "faceRecognizer = cv2.face.LBPHFaceRecognizer_create()\n",
    "faceDetektor = cv2.CascadeClassifier('haarcascade_frontalface_default.xml')\n",
    "\n",
    "print('Mesin sedang melakukan training data wajah. Tunggu dalam beberapa detik')\n",
    "faces,IDs = getImageLabel(wajahDir)\n",
    "faceRecognizer.train(faces,np.array(IDs))\n",
    "\n",
    "faceRecognizer.write(latihDir+'/training.xml')\n",
    "print('sebanayak {0} data wajah telah ditriningkan ke mesin.',format(len(np.unique(IDs))))\n"
   ]
  },
  {
   "cell_type": "code",
   "execution_count": null,
   "metadata": {},
   "outputs": [],
   "source": []
  }
 ],
 "metadata": {
  "kernelspec": {
   "display_name": "Python 3",
   "language": "python",
   "name": "python3"
  },
  "language_info": {
   "codemirror_mode": {
    "name": "ipython",
    "version": 3
   },
   "file_extension": ".py",
   "mimetype": "text/x-python",
   "name": "python",
   "nbconvert_exporter": "python",
   "pygments_lexer": "ipython3",
   "version": "3.8.5"
  }
 },
 "nbformat": 4,
 "nbformat_minor": 4
}
